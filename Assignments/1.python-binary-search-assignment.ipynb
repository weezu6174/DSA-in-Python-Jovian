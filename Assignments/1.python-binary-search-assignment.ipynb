{
 "cells": [
  {
   "cell_type": "markdown",
   "id": "requested-power",
   "metadata": {},
   "source": [
    "# Assignment 1 - Binary Search Practice\n",
    "\n",
    "_This assignment is a part of the course [\"Data Structures and Algorithms in Python\"](https://jovian.ai/learn/data-structures-and-algorithms-in-python)._\n",
    "\n",
    "In this assignment, you'll get to practice some of the concepts and skills covered in the following notebooks:\n",
    "\n",
    "1. [Binary Search and Complexity Analysis](https://jovian.ai/aakashns/python-binary-search)\n",
    "3. [Solving Programming Problems Systematically](https://jovian.ai/aakashns/python-problem-solving-template)\n",
    "\n",
    "As you go through this notebook, you will find a **???** in certain places. To complete this assignment, you must replace all the **???** with appropriate values, expressions or statements to ensure that the notebook runs properly end-to-end. \n",
    "\n",
    "Some things to keep in mind:\n",
    "\n",
    "* Make sure to run all the code cells, otherwise you may get errors like `NameError` for undefined variables.\n",
    "* Do not change variable names, delete cells or disturb other existing code. It may cause problems during evaluation.\n",
    "* In some cases, you may need to add some code cells or new statements before or after the line of code containing the **???**. \n",
    "* Since you'll be using a temporary online service for code execution, save your work by running `jovian.commit` at regular intervals.\n",
    "* Questions marked **(Optional)** will not be considered for evaluation, and can be skipped. They are for your learning.\n",
    "\n",
    "You can make submissions on this page: https://jovian.ai/learn/data-structures-and-algorithms-in-python/assignment/assignment-1-binary-search-practice\n",
    "\n",
    "\n",
    "If you are stuck, you can ask for help on the community forum: https://jovian.ai/forum/c/data-structures-and-algorithms-in-python/assignment-1/87 . You can get help with errors or ask for hints, but **please don't ask for OR share the full working answer code** on the forum.\n",
    "\n"
   ]
  },
  {
   "cell_type": "markdown",
   "id": "incident-screw",
   "metadata": {},
   "source": [
    "## How to run the code and save your work\n",
    "\n",
    "The recommended way to run this notebook is to click the \"Run\" button at the top of this page, and select \"Run on Binder\". This will run the notebook on [mybinder.org](https://mybinder.org), a free online service for running Jupyter notebooks. \n",
    "\n",
    "This tutorial is an executable [Jupyter notebook](https://jupyter.org). You can _run_ this tutorial and experiment with the code examples in a couple of ways: *using free online resources* (recommended) or *on your computer*.\n",
    "\n",
    "#### Option 1: Running using free online resources (1-click, recommended)\n",
    "\n",
    "The easiest way to start executing the code is to click the **Run** button at the top of this page and select **Run on Binder**. You can also select \"Run on Colab\" or \"Run on Kaggle\", but you'll need to create an account on [Google Colab](https://colab.research.google.com) or [Kaggle](https://kaggle.com) to use these platforms.\n",
    "\n",
    "\n",
    "#### Option 2: Running on your computer locally\n",
    "\n",
    "To run the code on your computer locally, you'll need to set up [Python](https://www.python.org), download the notebook and install the required libraries. We recommend using the [Conda](https://docs.conda.io/projects/conda/en/latest/user-guide/install/) distribution of Python. Click the **Run** button at the top of this page, select the **Run Locally** option, and follow the instructions.\n",
    "\n",
    "#### Saving your work\n",
    "\n",
    "Before staring the assignment, let's save a snapshot of the assignment to your [Jovian](https://jovian.ai) profile, so that you can access it later, and continue your work."
   ]
  },
  {
   "cell_type": "code",
   "execution_count": 4,
   "id": "together-original",
   "metadata": {},
   "outputs": [],
   "source": [
    "!pip install jovian --upgrade --quiet"
   ]
  },
  {
   "cell_type": "code",
   "execution_count": 5,
   "id": "painful-receptor",
   "metadata": {},
   "outputs": [],
   "source": [
    "import jovian"
   ]
  },
  {
   "cell_type": "code",
   "execution_count": 6,
   "id": "confirmed-stephen",
   "metadata": {},
   "outputs": [],
   "source": [
    "project='python-binary-search-assignment'"
   ]
  },
  {
   "cell_type": "code",
   "execution_count": 7,
   "id": "magnetic-economy",
   "metadata": {},
   "outputs": [
    {
     "data": {
      "application/javascript": "window.require && require([\"base/js/namespace\"],function(Jupyter){Jupyter.notebook.save_checkpoint()})",
      "text/plain": [
       "<IPython.core.display.Javascript object>"
      ]
     },
     "metadata": {},
     "output_type": "display_data"
    },
    {
     "name": "stdout",
     "output_type": "stream",
     "text": [
      "[jovian] Updating notebook \"jtsang02/python-binary-search-assignment\" on https://jovian.ai\u001b[0m\n",
      "[jovian] Committed successfully! https://jovian.ai/jtsang02/python-binary-search-assignment\u001b[0m\n"
     ]
    },
    {
     "data": {
      "text/plain": [
       "'https://jovian.ai/jtsang02/python-binary-search-assignment'"
      ]
     },
     "execution_count": 7,
     "metadata": {},
     "output_type": "execute_result"
    }
   ],
   "source": [
    "jovian.commit(project=project, privacy='secret', environment=None)"
   ]
  },
  {
   "cell_type": "markdown",
   "id": "4f64bbbb",
   "metadata": {},
   "source": [
    "You may be asked to [provide an API Key](https://jovian.ai/docs/user-guide/upload.html) to upload your notebook. The privacy of your assignment notebook is set to \"Secret\", so that you can the evaluators can access it, but it will not shown on your public profile to other users. \n",
    "\n",
    "To continue working on a saved assignment, just visit [your profile](https://jovian.ai/) and run the saved notebook again."
   ]
  },
  {
   "cell_type": "markdown",
   "id": "conservative-worcester",
   "metadata": {},
   "source": [
    "## Problem - Rotated Lists\n",
    "\n",
    "We'll solve the following problem step-by-step:\n",
    "\n",
    "> You are given list of numbers, obtained by rotating a sorted list an unknown number of times. Write a function to determine the minimum number of times the original sorted list was rotated to obtain the given list. Your function should have the worst-case complexity of `O(log N)`, where N is the length of the list. You can assume that all the numbers in the list are unique.\n",
    ">\n",
    "> Example: The list `[5, 6, 9, 0, 2, 3, 4]` was obtained by rotating the sorted list `[0, 2, 3, 4, 5, 6, 9]` 3 times.\n",
    ">\n",
    "> We define \"rotating a list\" as removing the last element of the list and adding it before the first element. E.g. rotating the list `[3, 2, 4, 1]` produces `[1, 3, 2, 4]`. \n",
    ">\n",
    ">\"Sorted list\" refers to a list where the elements are arranged in the increasing order  e.g. `[1, 3, 5, 7]`.\n",
    ">"
   ]
  },
  {
   "cell_type": "markdown",
   "id": "popular-junction",
   "metadata": {},
   "source": [
    "## The Method\n",
    "\n",
    "Here's the systematic strategy we'll apply for solving problems:\n",
    "\n",
    "1. State the problem clearly. Identify the input & output formats.\n",
    "2. Come up with some example inputs & outputs. Try to cover all edge cases.\n",
    "3. Come up with a correct solution for the problem. State it in plain English.\n",
    "4. Implement the solution and test it using example inputs. Fix bugs, if any.\n",
    "5. Analyze the algorithm's complexity and identify inefficiencies, if any.\n",
    "6. Apply the right technique to overcome the inefficiency. Repeat steps 3 to 6.\n",
    "\n",
    "This approach is explained in detail in [Lesson 1](https://jovian.ai/learn/data-structures-and-algorithms-in-python/lesson/lesson-1-binary-search-linked-lists-and-complexity) of the course. Let's apply this approach step-by-step."
   ]
  },
  {
   "cell_type": "markdown",
   "id": "rotary-champion",
   "metadata": {},
   "source": [
    "## Solution\n",
    "\n",
    "\n",
    "### 1. State the problem clearly. Identify the input & output formats.\n",
    "\n",
    "While this problem is stated clearly enough, it's always useful to try and express in your own words, in a way that makes it most clear for you. It's perfectly OK if your description overlaps with the original problem statement to a large extent.\n",
    "\n",
    "<br/>\n",
    "\n",
    "_**Q: Express the problem in your own words below (to edit this cell, double click on it).**_\n",
    "\n",
    "**Problem**\n",
    "\n",
    "> We are given a list, the final list, of unique numbers. From the final list, we can the sorted list. We want to know how many rotation steps were done on the sorted list to obtain the final list.  A rotation is defined as moving the last number in the list to the front, placing it before the first element of the list.   \n",
    "\n",
    "<br/>\n",
    "\n",
    "_**Q: The function you write will take one input called `nums`. What does it represent? Give an example.**_\n",
    "\n",
    "**Input**\n",
    "\n",
    "1. `nums`: A list of unique numbers\n",
    "\n",
    "<br/>\n",
    "\n",
    "_**Q: The function you write will return a single output called `rotations`. What does it represent? Give an example.**_\n",
    "\n",
    "**Output**\n",
    "\n",
    "3. `rotations`: An integer value of 0 or less than or equal to n-1 (n is length of nums)\n",
    "\n",
    "<br/>\n",
    "\n",
    "Based on the above, we can now create a signature of our function:"
   ]
  },
  {
   "cell_type": "code",
   "execution_count": 8,
   "id": "adult-boring",
   "metadata": {},
   "outputs": [],
   "source": [
    "def count_rotations(nums):\n",
    "    pass"
   ]
  },
  {
   "cell_type": "markdown",
   "id": "logical-change",
   "metadata": {},
   "source": [
    "After each, step remember to save your notebook"
   ]
  },
  {
   "cell_type": "code",
   "execution_count": 9,
   "id": "alone-status",
   "metadata": {},
   "outputs": [
    {
     "data": {
      "application/javascript": "window.require && require([\"base/js/namespace\"],function(Jupyter){Jupyter.notebook.save_checkpoint()})",
      "text/plain": [
       "<IPython.core.display.Javascript object>"
      ]
     },
     "metadata": {},
     "output_type": "display_data"
    },
    {
     "name": "stdout",
     "output_type": "stream",
     "text": [
      "[jovian] Updating notebook \"jtsang02/python-binary-search-assignment\" on https://jovian.ai\u001b[0m\n",
      "[jovian] Committed successfully! https://jovian.ai/jtsang02/python-binary-search-assignment\u001b[0m\n"
     ]
    },
    {
     "data": {
      "text/plain": [
       "'https://jovian.ai/jtsang02/python-binary-search-assignment'"
      ]
     },
     "execution_count": 9,
     "metadata": {},
     "output_type": "execute_result"
    }
   ],
   "source": [
    "jovian.commit(project=project)"
   ]
  },
  {
   "cell_type": "markdown",
   "id": "stuck-application",
   "metadata": {},
   "source": [
    "### 2. Come up with some example inputs & outputs. Try to cover all edge cases.\n",
    "\n",
    "Our function should be able to handle any set of valid inputs we pass into it. Here's a list of some possible variations we might encounter:\n",
    "\n",
    "1. A list of size 10 rotated 3 times.\n",
    "2. A list of size 8 rotated 5 times.\n",
    "3. A list that wasn't rotated at all.\n",
    "4. A list that was rotated just once. \n",
    "5. A list that was rotated `n-1` times, where `n` is the size of the list.\n",
    "6. A list that was rotated `n` times (do you get back the original list here?)\n",
    "7. An empty list.\n",
    "8. A list containing just one element.\n",
    "9. (can you think of any more?)\n",
    "\n",
    "We'll express our test cases as dictionaries, to test them easily. Each dictionary will contain 2 keys: `input` (a dictionary itself containing one key for each argument to the function and `output` (the expected result from the function). Here's an example."
   ]
  },
  {
   "cell_type": "code",
   "execution_count": 10,
   "id": "incoming-assumption",
   "metadata": {},
   "outputs": [],
   "source": [
    "test = {\n",
    "    'input': {\n",
    "        'nums': [19, 25, 29, 3, 5, 6, 7, 9, 11, 14]\n",
    "    },\n",
    "    'output': 3\n",
    "}"
   ]
  },
  {
   "cell_type": "markdown",
   "id": "nervous-austin",
   "metadata": {},
   "source": [
    "We can test the function by passing the input to it directly or by using the `evaluate_test_case` function from `jovian`."
   ]
  },
  {
   "cell_type": "code",
   "execution_count": 11,
   "id": "moral-glenn",
   "metadata": {},
   "outputs": [
    {
     "data": {
      "text/plain": [
       "(None, False)"
      ]
     },
     "execution_count": 11,
     "metadata": {},
     "output_type": "execute_result"
    }
   ],
   "source": [
    "nums0 = test['input']['nums']\n",
    "output0 = test['input']['nums']\n",
    "result0 = count_rotations(nums0)\n",
    "\n",
    "result0, result0 == output0"
   ]
  },
  {
   "cell_type": "code",
   "execution_count": 12,
   "id": "official-theology",
   "metadata": {},
   "outputs": [],
   "source": [
    "from jovian.pythondsa import evaluate_test_case"
   ]
  },
  {
   "cell_type": "code",
   "execution_count": 13,
   "id": "charitable-daniel",
   "metadata": {},
   "outputs": [
    {
     "name": "stdout",
     "output_type": "stream",
     "text": [
      "\n",
      "Input:\n",
      "{'nums': [19, 25, 29, 3, 5, 6, 7, 9, 11, 14]}\n",
      "\n",
      "Expected Output:\n",
      "3\n",
      "\n",
      "\n",
      "Actual Output:\n",
      "None\n",
      "\n",
      "Execution Time:\n",
      "0.002 ms\n",
      "\n",
      "Test Result:\n",
      "\u001b[91mFAILED\u001b[0m\n",
      "\n"
     ]
    },
    {
     "data": {
      "text/plain": [
       "(None, False, 0.002)"
      ]
     },
     "execution_count": 13,
     "metadata": {},
     "output_type": "execute_result"
    }
   ],
   "source": [
    "evaluate_test_case(count_rotations, test)"
   ]
  },
  {
   "cell_type": "markdown",
   "id": "saved-carnival",
   "metadata": {},
   "source": [
    "Let's create one test case for each of the scenarios listed above. We'll store our test cases in an array called `tests`."
   ]
  },
  {
   "cell_type": "markdown",
   "id": "neither-stability",
   "metadata": {},
   "source": [
    "_**Q: Create proper test cases for each of the scenarios listed above.**_"
   ]
  },
  {
   "cell_type": "code",
   "execution_count": 14,
   "id": "egyptian-recording",
   "metadata": {},
   "outputs": [],
   "source": [
    "test0 = test"
   ]
  },
  {
   "cell_type": "code",
   "execution_count": 15,
   "id": "capital-milwaukee",
   "metadata": {},
   "outputs": [],
   "source": [
    "# A list of size 8 rotated 5 times.\n",
    "test1 = {\n",
    "    'input': {\n",
    "        'nums': [6, 7, 11, 13, 16, 0, 1, 3]\n",
    "    },\n",
    "    'output': 5\n",
    "}"
   ]
  },
  {
   "cell_type": "code",
   "execution_count": 16,
   "id": "simple-variable",
   "metadata": {},
   "outputs": [],
   "source": [
    "# A list that wasn't rotated at all.\n",
    "test2 = {\n",
    "    'input': {\n",
    "        'nums': [3, 4, 5, 6]\n",
    "    },\n",
    "    'output': 0\n",
    "}"
   ]
  },
  {
   "cell_type": "markdown",
   "id": "bright-accessory",
   "metadata": {},
   "source": [
    "A list that was rotated just once.\n",
    "A list that was rotated n-1 times, where n is the size of the list.\n",
    "A list that was rotated n times (do you get back the original list here?)\n",
    "An empty list.\n",
    "A list containing just one element."
   ]
  },
  {
   "cell_type": "code",
   "execution_count": 17,
   "id": "pursuant-facility",
   "metadata": {},
   "outputs": [],
   "source": [
    "# A list that was rotated just once.\n",
    "test3 = {\n",
    "    'input': {\n",
    "        'nums': [9, 1, 2, 4, 7]\n",
    "    },\n",
    "    'output': 1\n",
    "}"
   ]
  },
  {
   "cell_type": "code",
   "execution_count": 18,
   "id": "boring-minimum",
   "metadata": {},
   "outputs": [],
   "source": [
    "# A list that was rotated n-1 times, where n is the size of the list.\n",
    "test4 = {\n",
    "    'input': {\n",
    "        'nums': [7, 8, 12, 2]\n",
    "    },\n",
    "    'output': 3\n",
    "}"
   ]
  },
  {
   "cell_type": "code",
   "execution_count": 19,
   "id": "tamil-iceland",
   "metadata": {},
   "outputs": [],
   "source": [
    "# A list that was rotated n times, where n is the size of the list\n",
    "test5 = {\n",
    "    'input': {\n",
    "        'nums': [1, 2, 3, 4]\n",
    "    },\n",
    "    'output': 0\n",
    "}"
   ]
  },
  {
   "cell_type": "markdown",
   "id": "sweet-ideal",
   "metadata": {},
   "source": [
    "**HINT**: Read the question carefully to determine the correct output for the above test case."
   ]
  },
  {
   "cell_type": "code",
   "execution_count": 20,
   "id": "shared-cream",
   "metadata": {},
   "outputs": [],
   "source": [
    "# An empty list.\n",
    "test6 = {\n",
    "    'input': {\n",
    "        'nums': []\n",
    "    },\n",
    "    'output': 0\n",
    "}"
   ]
  },
  {
   "cell_type": "code",
   "execution_count": 21,
   "id": "advanced-career",
   "metadata": {},
   "outputs": [],
   "source": [
    "# A list containing just one element.\n",
    "test7 = {\n",
    "    'input': {\n",
    "        'nums': [1]\n",
    "    },\n",
    "    'output': 0\n",
    "}"
   ]
  },
  {
   "cell_type": "code",
   "execution_count": 22,
   "id": "romantic-zambia",
   "metadata": {},
   "outputs": [],
   "source": [
    "tests = [test0, test1, test2, test3, test3, test5, test6, test7]"
   ]
  },
  {
   "cell_type": "markdown",
   "id": "three-factory",
   "metadata": {},
   "source": [
    "_**Q (Optional): Include any further test cases below, for other interesting scenarios you can think of.**_"
   ]
  },
  {
   "cell_type": "code",
   "execution_count": 23,
   "id": "infrared-worship",
   "metadata": {},
   "outputs": [],
   "source": [
    "test8 = {\n",
    "    'input': {\n",
    "        'nums': [2, 1]\n",
    "    },\n",
    "    'output': 1\n",
    "}"
   ]
  },
  {
   "cell_type": "code",
   "execution_count": 24,
   "id": "stable-strategy",
   "metadata": {},
   "outputs": [],
   "source": [
    "tests.append(test8)"
   ]
  },
  {
   "cell_type": "markdown",
   "id": "arabic-davis",
   "metadata": {},
   "source": [
    "Evaluate your function against all the test cases together using the `evaluate_test_cases` (plural) function from `jovian`."
   ]
  },
  {
   "cell_type": "code",
   "execution_count": 25,
   "id": "sophisticated-michael",
   "metadata": {},
   "outputs": [],
   "source": [
    "from jovian.pythondsa import evaluate_test_cases"
   ]
  },
  {
   "cell_type": "code",
   "execution_count": 26,
   "id": "major-height",
   "metadata": {},
   "outputs": [
    {
     "name": "stdout",
     "output_type": "stream",
     "text": [
      "\n",
      "\u001b[1mTEST CASE #0\u001b[0m\n",
      "\n",
      "Input:\n",
      "{'nums': [19, 25, 29, 3, 5, 6, 7, 9, 11, 14]}\n",
      "\n",
      "Expected Output:\n",
      "3\n",
      "\n",
      "\n",
      "Actual Output:\n",
      "None\n",
      "\n",
      "Execution Time:\n",
      "0.003 ms\n",
      "\n",
      "Test Result:\n",
      "\u001b[91mFAILED\u001b[0m\n",
      "\n",
      "\n",
      "\u001b[1mTEST CASE #1\u001b[0m\n",
      "\n",
      "Input:\n",
      "{'nums': [6, 7, 11, 13, 16, 0, 1, 3]}\n",
      "\n",
      "Expected Output:\n",
      "5\n",
      "\n",
      "\n",
      "Actual Output:\n",
      "None\n",
      "\n",
      "Execution Time:\n",
      "0.002 ms\n",
      "\n",
      "Test Result:\n",
      "\u001b[91mFAILED\u001b[0m\n",
      "\n",
      "\n",
      "\u001b[1mTEST CASE #2\u001b[0m\n",
      "\n",
      "Input:\n",
      "{'nums': [3, 4, 5, 6]}\n",
      "\n",
      "Expected Output:\n",
      "0\n",
      "\n",
      "\n",
      "Actual Output:\n",
      "None\n",
      "\n",
      "Execution Time:\n",
      "0.002 ms\n",
      "\n",
      "Test Result:\n",
      "\u001b[91mFAILED\u001b[0m\n",
      "\n",
      "\n",
      "\u001b[1mTEST CASE #3\u001b[0m\n",
      "\n",
      "Input:\n",
      "{'nums': [9, 1, 2, 4, 7]}\n",
      "\n",
      "Expected Output:\n",
      "1\n",
      "\n",
      "\n",
      "Actual Output:\n",
      "None\n",
      "\n",
      "Execution Time:\n",
      "0.003 ms\n",
      "\n",
      "Test Result:\n",
      "\u001b[91mFAILED\u001b[0m\n",
      "\n",
      "\n",
      "\u001b[1mTEST CASE #4\u001b[0m\n",
      "\n",
      "Input:\n",
      "{'nums': [9, 1, 2, 4, 7]}\n",
      "\n",
      "Expected Output:\n",
      "1\n",
      "\n",
      "\n",
      "Actual Output:\n",
      "None\n",
      "\n",
      "Execution Time:\n",
      "0.002 ms\n",
      "\n",
      "Test Result:\n",
      "\u001b[91mFAILED\u001b[0m\n",
      "\n",
      "\n",
      "\u001b[1mTEST CASE #5\u001b[0m\n",
      "\n",
      "Input:\n",
      "{'nums': [1, 2, 3, 4]}\n",
      "\n",
      "Expected Output:\n",
      "0\n",
      "\n",
      "\n",
      "Actual Output:\n",
      "None\n",
      "\n",
      "Execution Time:\n",
      "0.002 ms\n",
      "\n",
      "Test Result:\n",
      "\u001b[91mFAILED\u001b[0m\n",
      "\n",
      "\n",
      "\u001b[1mTEST CASE #6\u001b[0m\n",
      "\n",
      "Input:\n",
      "{'nums': []}\n",
      "\n",
      "Expected Output:\n",
      "0\n",
      "\n",
      "\n",
      "Actual Output:\n",
      "None\n",
      "\n",
      "Execution Time:\n",
      "0.003 ms\n",
      "\n",
      "Test Result:\n",
      "\u001b[91mFAILED\u001b[0m\n",
      "\n",
      "\n",
      "\u001b[1mTEST CASE #7\u001b[0m\n",
      "\n",
      "Input:\n",
      "{'nums': [1]}\n",
      "\n",
      "Expected Output:\n",
      "0\n",
      "\n",
      "\n",
      "Actual Output:\n",
      "None\n",
      "\n",
      "Execution Time:\n",
      "0.002 ms\n",
      "\n",
      "Test Result:\n",
      "\u001b[91mFAILED\u001b[0m\n",
      "\n",
      "\n",
      "\u001b[1mTEST CASE #8\u001b[0m\n",
      "\n",
      "Input:\n",
      "{'nums': [2, 1]}\n",
      "\n",
      "Expected Output:\n",
      "1\n",
      "\n",
      "\n",
      "Actual Output:\n",
      "None\n",
      "\n",
      "Execution Time:\n",
      "0.002 ms\n",
      "\n",
      "Test Result:\n",
      "\u001b[91mFAILED\u001b[0m\n",
      "\n",
      "\n",
      "\u001b[1mSUMMARY\u001b[0m\n",
      "\n",
      "TOTAL: 9, \u001b[92mPASSED\u001b[0m: 0, \u001b[91mFAILED\u001b[0m: 9\n"
     ]
    },
    {
     "data": {
      "text/plain": [
       "[(None, False, 0.003),\n",
       " (None, False, 0.002),\n",
       " (None, False, 0.002),\n",
       " (None, False, 0.003),\n",
       " (None, False, 0.002),\n",
       " (None, False, 0.002),\n",
       " (None, False, 0.003),\n",
       " (None, False, 0.002),\n",
       " (None, False, 0.002)]"
      ]
     },
     "execution_count": 26,
     "metadata": {},
     "output_type": "execute_result"
    }
   ],
   "source": [
    "evaluate_test_cases(count_rotations, tests)"
   ]
  },
  {
   "cell_type": "markdown",
   "id": "former-letters",
   "metadata": {},
   "source": [
    "Verify that all the test cases were evaluated. We expect them all to fail, since we haven't implemented the function yet.\n",
    "\n",
    "Let's save our work before continuing."
   ]
  },
  {
   "cell_type": "code",
   "execution_count": 27,
   "id": "characteristic-termination",
   "metadata": {},
   "outputs": [
    {
     "data": {
      "application/javascript": "window.require && require([\"base/js/namespace\"],function(Jupyter){Jupyter.notebook.save_checkpoint()})",
      "text/plain": [
       "<IPython.core.display.Javascript object>"
      ]
     },
     "metadata": {},
     "output_type": "display_data"
    },
    {
     "name": "stdout",
     "output_type": "stream",
     "text": [
      "[jovian] Updating notebook \"jtsang02/python-binary-search-assignment\" on https://jovian.ai\u001b[0m\n",
      "[jovian] Committed successfully! https://jovian.ai/jtsang02/python-binary-search-assignment\u001b[0m\n"
     ]
    },
    {
     "data": {
      "text/plain": [
       "'https://jovian.ai/jtsang02/python-binary-search-assignment'"
      ]
     },
     "execution_count": 27,
     "metadata": {},
     "output_type": "execute_result"
    }
   ],
   "source": [
    "jovian.commit(project=project)"
   ]
  },
  {
   "cell_type": "markdown",
   "id": "falling-calgary",
   "metadata": {},
   "source": [
    "### 3. Come up with a correct solution for the problem. State it in plain English.\n",
    "\n",
    "Our first goal should always be to come up with a _correct_ solution to the problem, which may not necessarily be the most _efficient_ solution. Try to think of a solution before you read further. \n",
    "\n",
    "Coming up with the correct solution is quite easy, and it's based on this insight: If a list of sorted numbers is rotated `k` times, then the smallest number in the list ends up at position `k` (counting from 0). Further, it is the only number in the list which is smaller than the number before it. Thus, we simply need to **check for each number in the list whether it is smaller than the number that comes before it** (if there is a number before it). Then, our answer i.e. the number of rotations is simply the position of this number is . If we cannot find such a number, then the list wasn't rotated at all.\n",
    "\n",
    "Example: In the list `[19, 25, 29, 3, 5, 6, 7, 9, 11, 14]`, the number `3` is the only number smaller than its predecessor. It occurs at the position `4` (counting from `0`), hence the array was rotated `4` times.\n",
    "\n",
    "\n",
    "We can use the *linear search* algorithm as a first attempt to solve this problem i.e. we can perform the check for every position one by one. But first, try describing the above solution in your own words, that make it clear to you.\n",
    "\n",
    "_**Q (Optional): Describe the linear search solution explained above problem in your own words.**_\n",
    "\n",
    "1. Iterate through each element of the list.\n",
    "2.  Check if each number in list is smaller than the previous number at the position before it.\n",
    "3. If it is, return the position of the number.\n",
    "4. If no such number found, return 0.\n",
    "\n",
    "(add more steps if required)\n",
    "\n",
    "\n",
    "Let's save and upload our work before continuing."
   ]
  },
  {
   "cell_type": "code",
   "execution_count": 28,
   "id": "seasonal-intro",
   "metadata": {},
   "outputs": [],
   "source": [
    "import jovian"
   ]
  },
  {
   "cell_type": "code",
   "execution_count": 29,
   "id": "divided-convertible",
   "metadata": {},
   "outputs": [
    {
     "data": {
      "application/javascript": "window.require && require([\"base/js/namespace\"],function(Jupyter){Jupyter.notebook.save_checkpoint()})",
      "text/plain": [
       "<IPython.core.display.Javascript object>"
      ]
     },
     "metadata": {},
     "output_type": "display_data"
    },
    {
     "name": "stdout",
     "output_type": "stream",
     "text": [
      "[jovian] Updating notebook \"jtsang02/python-binary-search-assignment\" on https://jovian.ai\u001b[0m\n",
      "[jovian] Committed successfully! https://jovian.ai/jtsang02/python-binary-search-assignment\u001b[0m\n"
     ]
    },
    {
     "data": {
      "text/plain": [
       "'https://jovian.ai/jtsang02/python-binary-search-assignment'"
      ]
     },
     "execution_count": 29,
     "metadata": {},
     "output_type": "execute_result"
    }
   ],
   "source": [
    "jovian.commit(project=project)"
   ]
  },
  {
   "cell_type": "markdown",
   "id": "future-narrative",
   "metadata": {},
   "source": [
    "###  4. Implement the solution and test it using example inputs. Fix bugs, if any.\n",
    "\n",
    "_**Q: Implement the solution described in step 3.**_"
   ]
  },
  {
   "cell_type": "code",
   "execution_count": 30,
   "id": "oriental-founder",
   "metadata": {},
   "outputs": [],
   "source": [
    "def count_rotations_linear(nums):\n",
    "    position = 0                   # What is the intial value of position?  The first index of the list\n",
    "    \n",
    "    while (position < len(nums)):  # When should the loop be terminated?  When it reaches the last index\n",
    "        \n",
    "        # Success criteria: check whether the number at the current position is smaller than the one before it\n",
    "        if position > 0 and nums[position] < nums[position - 1]:   # How to perform the check?\n",
    "            return position\n",
    "        \n",
    "        # Move to the next position\n",
    "        position += 1\n",
    "    \n",
    "    return 0                     # What if none of the positions passed the check               "
   ]
  },
  {
   "cell_type": "markdown",
   "id": "exempt-analysis",
   "metadata": {},
   "source": [
    "Let's test out the function with the first test case."
   ]
  },
  {
   "cell_type": "code",
   "execution_count": 31,
   "id": "acceptable-airline",
   "metadata": {},
   "outputs": [
    {
     "name": "stdout",
     "output_type": "stream",
     "text": [
      "\n",
      "Input:\n",
      "{'nums': [19, 25, 29, 3, 5, 6, 7, 9, 11, 14]}\n",
      "\n",
      "Expected Output:\n",
      "3\n",
      "\n",
      "\n",
      "Actual Output:\n",
      "3\n",
      "\n",
      "Execution Time:\n",
      "0.004 ms\n",
      "\n",
      "Test Result:\n",
      "\u001b[92mPASSED\u001b[0m\n",
      "\n"
     ]
    }
   ],
   "source": [
    "linear_search_result = evaluate_test_case(count_rotations_linear, test)"
   ]
  },
  {
   "cell_type": "markdown",
   "id": "organized-portfolio",
   "metadata": {},
   "source": [
    "Make sure your function passes the test. Fix bugs, if any. \n",
    "\n",
    "Let's test it out with all the test cases."
   ]
  },
  {
   "cell_type": "code",
   "execution_count": 32,
   "id": "cooperative-third",
   "metadata": {},
   "outputs": [
    {
     "name": "stdout",
     "output_type": "stream",
     "text": [
      "\n",
      "\u001b[1mTEST CASE #0\u001b[0m\n",
      "\n",
      "Input:\n",
      "{'nums': [19, 25, 29, 3, 5, 6, 7, 9, 11, 14]}\n",
      "\n",
      "Expected Output:\n",
      "3\n",
      "\n",
      "\n",
      "Actual Output:\n",
      "3\n",
      "\n",
      "Execution Time:\n",
      "0.005 ms\n",
      "\n",
      "Test Result:\n",
      "\u001b[92mPASSED\u001b[0m\n",
      "\n",
      "\n",
      "\u001b[1mTEST CASE #1\u001b[0m\n",
      "\n",
      "Input:\n",
      "{'nums': [6, 7, 11, 13, 16, 0, 1, 3]}\n",
      "\n",
      "Expected Output:\n",
      "5\n",
      "\n",
      "\n",
      "Actual Output:\n",
      "5\n",
      "\n",
      "Execution Time:\n",
      "0.004 ms\n",
      "\n",
      "Test Result:\n",
      "\u001b[92mPASSED\u001b[0m\n",
      "\n",
      "\n",
      "\u001b[1mTEST CASE #2\u001b[0m\n",
      "\n",
      "Input:\n",
      "{'nums': [3, 4, 5, 6]}\n",
      "\n",
      "Expected Output:\n",
      "0\n",
      "\n",
      "\n",
      "Actual Output:\n",
      "0\n",
      "\n",
      "Execution Time:\n",
      "0.003 ms\n",
      "\n",
      "Test Result:\n",
      "\u001b[92mPASSED\u001b[0m\n",
      "\n",
      "\n",
      "\u001b[1mTEST CASE #3\u001b[0m\n",
      "\n",
      "Input:\n",
      "{'nums': [9, 1, 2, 4, 7]}\n",
      "\n",
      "Expected Output:\n",
      "1\n",
      "\n",
      "\n",
      "Actual Output:\n",
      "1\n",
      "\n",
      "Execution Time:\n",
      "0.003 ms\n",
      "\n",
      "Test Result:\n",
      "\u001b[92mPASSED\u001b[0m\n",
      "\n",
      "\n",
      "\u001b[1mTEST CASE #4\u001b[0m\n",
      "\n",
      "Input:\n",
      "{'nums': [9, 1, 2, 4, 7]}\n",
      "\n",
      "Expected Output:\n",
      "1\n",
      "\n",
      "\n",
      "Actual Output:\n",
      "1\n",
      "\n",
      "Execution Time:\n",
      "0.003 ms\n",
      "\n",
      "Test Result:\n",
      "\u001b[92mPASSED\u001b[0m\n",
      "\n",
      "\n",
      "\u001b[1mTEST CASE #5\u001b[0m\n",
      "\n",
      "Input:\n",
      "{'nums': [1, 2, 3, 4]}\n",
      "\n",
      "Expected Output:\n",
      "0\n",
      "\n",
      "\n",
      "Actual Output:\n",
      "0\n",
      "\n",
      "Execution Time:\n",
      "0.004 ms\n",
      "\n",
      "Test Result:\n",
      "\u001b[92mPASSED\u001b[0m\n",
      "\n",
      "\n",
      "\u001b[1mTEST CASE #6\u001b[0m\n",
      "\n",
      "Input:\n",
      "{'nums': []}\n",
      "\n",
      "Expected Output:\n",
      "0\n",
      "\n",
      "\n",
      "Actual Output:\n",
      "0\n",
      "\n",
      "Execution Time:\n",
      "0.002 ms\n",
      "\n",
      "Test Result:\n",
      "\u001b[92mPASSED\u001b[0m\n",
      "\n",
      "\n",
      "\u001b[1mTEST CASE #7\u001b[0m\n",
      "\n",
      "Input:\n",
      "{'nums': [1]}\n",
      "\n",
      "Expected Output:\n",
      "0\n",
      "\n",
      "\n",
      "Actual Output:\n",
      "0\n",
      "\n",
      "Execution Time:\n",
      "0.002 ms\n",
      "\n",
      "Test Result:\n",
      "\u001b[92mPASSED\u001b[0m\n",
      "\n",
      "\n",
      "\u001b[1mTEST CASE #8\u001b[0m\n",
      "\n",
      "Input:\n",
      "{'nums': [2, 1]}\n",
      "\n",
      "Expected Output:\n",
      "1\n",
      "\n",
      "\n",
      "Actual Output:\n",
      "1\n",
      "\n",
      "Execution Time:\n",
      "0.003 ms\n",
      "\n",
      "Test Result:\n",
      "\u001b[92mPASSED\u001b[0m\n",
      "\n",
      "\n",
      "\u001b[1mSUMMARY\u001b[0m\n",
      "\n",
      "TOTAL: 9, \u001b[92mPASSED\u001b[0m: 9, \u001b[91mFAILED\u001b[0m: 0\n"
     ]
    }
   ],
   "source": [
    "linear_search_results = evaluate_test_cases(count_rotations_linear, tests)"
   ]
  },
  {
   "cell_type": "markdown",
   "id": "statistical-lending",
   "metadata": {},
   "source": [
    "Once again, make sure all the tests pass. Fix errors and bugs, if any.\n",
    "\n",
    "**NOTE**: During evaluation, your submission will be tested against a much larger set of test cases (not listed here). Make sure to test your solution thoroughly.\n",
    "\n",
    "If you are stuck, you can ask for help on the community forum: https://jovian.ai/forum/c/data-structures-and-algorithms-in-python/assignment-1/87 . You can get help with errors or ask for hints, but **please don't ask for OR share the full working answer code** on the forum."
   ]
  },
  {
   "cell_type": "markdown",
   "id": "economic-spray",
   "metadata": {},
   "source": [
    "### 5. Analyze the algorithm's complexity and identify inefficiencies, if any.\n",
    "\n",
    "Count the maximum number of iterations it may take for the algorithm to return the result.\n",
    "\n",
    "_**Q: What is the worst-case complexity (running time) of the algorithm expressed in the Big O Notation? Assume that the size of the list is `N` (uppercase).**_\n"
   ]
  },
  {
   "cell_type": "code",
   "execution_count": 33,
   "id": "attended-indonesia",
   "metadata": {},
   "outputs": [],
   "source": [
    "linear_search_complexity = \"O(N)\""
   ]
  },
  {
   "cell_type": "markdown",
   "id": "pregnant-steal",
   "metadata": {},
   "source": [
    "### 6. Apply the right technique to overcome the inefficiency. Repeat steps 3 to 6.\n",
    "\n",
    "As you might have guessed, we can apply _Binary Search_ to solve this problem. The key question we need to answer in binary search is: Given the middle element, how to decide if it is the answer (smallest number), or whether the answer lies to the left or right of it. \n",
    "\n",
    "If the middle element is smaller than its predecessor, then it is the answer. However, if it isn't, this check is not sufficient to determine whether the answer lies to the left or the right of it. Consider the following examples.\n",
    "\n",
    "`[7, 8, 1, 3, 4, 5, 6]` (answer lies to the left of the middle element)\n",
    "\n",
    "`[1, 2, 3, 4, 5, -1, 0]` (answer lies to the right of the middle element)\n",
    "\n",
    "Here's a check that will help us determine if the answer lies to the left or the right: _If the middle element of the list is smaller than the last element of the range, then the answer lies to the left of it. Otherwise, the answer lies to the right._\n",
    "\n",
    "Do you see why this strategy works?\n"
   ]
  },
  {
   "cell_type": "markdown",
   "id": "static-finder",
   "metadata": {},
   "source": [
    "### 7. Come up with a correct solution for the problem. State it in plain English.\n",
    "\n",
    "Before we implement the solution, it's useful to describe it in a way that makes most sense to you. In a coding interview, you will almost certainly be asked to describe your approach before you start writing code.\n",
    "\n",
    "_**Q (Optional): Describe the binary search solution explained above problem in your own words.**_\n",
    "\n",
    "1. Find the middle element of the list.\n",
    "2. If the middle element is smaller than the previous element, then the middle position is the answer.\n",
    "3. If it is less than the last number, search the left side of the list.\n",
    "4. If it is greater than the last number, search the right side of the list.\n",
    "5. If no elements remain, return 0.\n",
    "\n",
    "Let's save and upload our work before continuing."
   ]
  },
  {
   "cell_type": "code",
   "execution_count": 34,
   "id": "chronic-notebook",
   "metadata": {},
   "outputs": [
    {
     "data": {
      "application/javascript": "window.require && require([\"base/js/namespace\"],function(Jupyter){Jupyter.notebook.save_checkpoint()})",
      "text/plain": [
       "<IPython.core.display.Javascript object>"
      ]
     },
     "metadata": {},
     "output_type": "display_data"
    },
    {
     "name": "stdout",
     "output_type": "stream",
     "text": [
      "[jovian] Updating notebook \"jtsang02/python-binary-search-assignment\" on https://jovian.ai\u001b[0m\n",
      "[jovian] Committed successfully! https://jovian.ai/jtsang02/python-binary-search-assignment\u001b[0m\n"
     ]
    },
    {
     "data": {
      "text/plain": [
       "'https://jovian.ai/jtsang02/python-binary-search-assignment'"
      ]
     },
     "execution_count": 34,
     "metadata": {},
     "output_type": "execute_result"
    }
   ],
   "source": [
    "jovian.commit(project=project)"
   ]
  },
  {
   "cell_type": "markdown",
   "id": "recorded-directive",
   "metadata": {},
   "source": [
    "### 8. Implement the solution and test it using example inputs. Fix bugs, if any.\n",
    "\n",
    "*__Q: Implement the binary search solution described in step 7.__*\n",
    "\n",
    "If you are stuck, you can ask for help on the community forum: https://jovian.ai/forum/c/data-structures-and-algorithms-in-python/assignment-1/87 . You can get help with errors or ask for hints, but **please don't ask for OR share the full working answer code** on the forum."
   ]
  },
  {
   "cell_type": "code",
   "execution_count": 35,
   "id": "complete-thing",
   "metadata": {},
   "outputs": [],
   "source": [
    "def count_rotations_binary(nums):\n",
    "    lo = 0\n",
    "    hi = len(nums) - 1\n",
    "    \n",
    "    while (lo <= hi):\n",
    "        mid = (lo + hi) // 2\n",
    "        mid_number = nums[mid]\n",
    "        \n",
    "        # Uncomment the next line for logging the values and fixing errors.\n",
    "        print(\"lo:\", lo, \", hi:\", hi, \", mid:\", mid, \", mid_number:\", mid_number)\n",
    "        \n",
    "        if (mid > 0 and mid_number < nums[mid-1]):\n",
    "            # The middle position is the answer\n",
    "            return mid\n",
    "        \n",
    "        elif (mid_number < nums[hi]):\n",
    "            # Answer lies in the left half\n",
    "            hi = mid - 1  \n",
    "        \n",
    "        else:\n",
    "            # Answer lies in the right half\n",
    "            lo = mid + 1\n",
    "    \n",
    "    return 0"
   ]
  },
  {
   "cell_type": "markdown",
   "id": "parliamentary-element",
   "metadata": {},
   "source": [
    "Let's test out the function with the first test case."
   ]
  },
  {
   "cell_type": "code",
   "execution_count": 36,
   "id": "assigned-worth",
   "metadata": {},
   "outputs": [
    {
     "name": "stdout",
     "output_type": "stream",
     "text": [
      "\n",
      "Input:\n",
      "{'nums': [19, 25, 29, 3, 5, 6, 7, 9, 11, 14]}\n",
      "\n",
      "Expected Output:\n",
      "3\n",
      "\n",
      "lo: 0 , hi: 9 , mid: 4 , mid_number: 5\n",
      "lo: 0 , hi: 3 , mid: 1 , mid_number: 25\n",
      "lo: 2 , hi: 3 , mid: 2 , mid_number: 29\n",
      "lo: 3 , hi: 3 , mid: 3 , mid_number: 3\n",
      "\n",
      "Actual Output:\n",
      "3\n",
      "\n",
      "Execution Time:\n",
      "0.991 ms\n",
      "\n",
      "Test Result:\n",
      "\u001b[92mPASSED\u001b[0m\n",
      "\n"
     ]
    }
   ],
   "source": [
    "binary_search_result = evaluate_test_case(count_rotations_binary, test)"
   ]
  },
  {
   "cell_type": "markdown",
   "id": "noted-planning",
   "metadata": {},
   "source": [
    "Make sure your function passes the test. Fix bugs, if any.\n",
    "\n",
    "Let's test it out with all the test cases."
   ]
  },
  {
   "cell_type": "code",
   "execution_count": 37,
   "id": "operational-symposium",
   "metadata": {},
   "outputs": [
    {
     "name": "stdout",
     "output_type": "stream",
     "text": [
      "\n",
      "\u001b[1mTEST CASE #0\u001b[0m\n",
      "lo: 0 , hi: 9 , mid: 4 , mid_number: 5\n",
      "lo: 0 , hi: 3 , mid: 1 , mid_number: 25\n",
      "lo: 2 , hi: 3 , mid: 2 , mid_number: 29\n",
      "lo: 3 , hi: 3 , mid: 3 , mid_number: 3\n",
      "\n",
      "Input:\n",
      "{'nums': [19, 25, 29, 3, 5, 6, 7, 9, 11, 14]}\n",
      "\n",
      "Expected Output:\n",
      "3\n",
      "\n",
      "\n",
      "Actual Output:\n",
      "3\n",
      "\n",
      "Execution Time:\n",
      "0.858 ms\n",
      "\n",
      "Test Result:\n",
      "\u001b[92mPASSED\u001b[0m\n",
      "\n",
      "\n",
      "\u001b[1mTEST CASE #1\u001b[0m\n",
      "lo: 0 , hi: 7 , mid: 3 , mid_number: 13\n",
      "lo: 4 , hi: 7 , mid: 5 , mid_number: 0\n",
      "\n",
      "Input:\n",
      "{'nums': [6, 7, 11, 13, 16, 0, 1, 3]}\n",
      "\n",
      "Expected Output:\n",
      "5\n",
      "\n",
      "\n",
      "Actual Output:\n",
      "5\n",
      "\n",
      "Execution Time:\n",
      "0.508 ms\n",
      "\n",
      "Test Result:\n",
      "\u001b[92mPASSED\u001b[0m\n",
      "\n",
      "\n",
      "\u001b[1mTEST CASE #2\u001b[0m\n",
      "lo: 0 , hi: 3 , mid: 1 , mid_number: 4\n",
      "lo: 0 , hi: 0 , mid: 0 , mid_number: 3\n",
      "\n",
      "Input:\n",
      "{'nums': [3, 4, 5, 6]}\n",
      "\n",
      "Expected Output:\n",
      "0\n",
      "\n",
      "\n",
      "Actual Output:\n",
      "0\n",
      "\n",
      "Execution Time:\n",
      "5.37 ms\n",
      "\n",
      "Test Result:\n",
      "\u001b[92mPASSED\u001b[0m\n",
      "\n",
      "\n",
      "\u001b[1mTEST CASE #3\u001b[0m\n",
      "lo: 0 , hi: 4 , mid: 2 , mid_number: 2\n",
      "lo: 0 , hi: 1 , mid: 0 , mid_number: 9\n",
      "lo: 1 , hi: 1 , mid: 1 , mid_number: 1\n",
      "\n",
      "Input:\n",
      "{'nums': [9, 1, 2, 4, 7]}\n",
      "\n",
      "Expected Output:\n",
      "1\n",
      "\n",
      "\n",
      "Actual Output:\n",
      "1\n",
      "\n",
      "Execution Time:\n",
      "0.381 ms\n",
      "\n",
      "Test Result:\n",
      "\u001b[92mPASSED\u001b[0m\n",
      "\n",
      "\n",
      "\u001b[1mTEST CASE #4\u001b[0m\n",
      "lo: 0 , hi: 4 , mid: 2 , mid_number: 2\n",
      "lo: 0 , hi: 1 , mid: 0 , mid_number: 9\n",
      "lo: 1 , hi: 1 , mid: 1 , mid_number: 1\n",
      "\n",
      "Input:\n",
      "{'nums': [9, 1, 2, 4, 7]}\n",
      "\n",
      "Expected Output:\n",
      "1\n",
      "\n",
      "\n",
      "Actual Output:\n",
      "1\n",
      "\n",
      "Execution Time:\n",
      "0.354 ms\n",
      "\n",
      "Test Result:\n",
      "\u001b[92mPASSED\u001b[0m\n",
      "\n",
      "\n",
      "\u001b[1mTEST CASE #5\u001b[0m\n",
      "lo: 0 , hi: 3 , mid: 1 , mid_number: 2\n",
      "lo: 0 , hi: 0 , mid: 0 , mid_number: 1\n",
      "\n",
      "Input:\n",
      "{'nums': [1, 2, 3, 4]}\n",
      "\n",
      "Expected Output:\n",
      "0\n",
      "\n",
      "\n",
      "Actual Output:\n",
      "0\n",
      "\n",
      "Execution Time:\n",
      "4.142 ms\n",
      "\n",
      "Test Result:\n",
      "\u001b[92mPASSED\u001b[0m\n",
      "\n",
      "\n",
      "\u001b[1mTEST CASE #6\u001b[0m\n",
      "\n",
      "Input:\n",
      "{'nums': []}\n",
      "\n",
      "Expected Output:\n",
      "0\n",
      "\n",
      "\n",
      "Actual Output:\n",
      "0\n",
      "\n",
      "Execution Time:\n",
      "0.002 ms\n",
      "\n",
      "Test Result:\n",
      "\u001b[92mPASSED\u001b[0m\n",
      "\n",
      "\n",
      "\u001b[1mTEST CASE #7\u001b[0m\n",
      "lo: 0 , hi: 0 , mid: 0 , mid_number: 1\n",
      "\n",
      "Input:\n",
      "{'nums': [1]}\n",
      "\n",
      "Expected Output:\n",
      "0\n",
      "\n",
      "\n",
      "Actual Output:\n",
      "0\n",
      "\n",
      "Execution Time:\n",
      "0.123 ms\n",
      "\n",
      "Test Result:\n",
      "\u001b[92mPASSED\u001b[0m\n",
      "\n",
      "\n",
      "\u001b[1mTEST CASE #8\u001b[0m\n",
      "lo: 0 , hi: 1 , mid: 0 , mid_number: 2\n",
      "lo: 1 , hi: 1 , mid: 1 , mid_number: 1\n",
      "\n",
      "Input:\n",
      "{'nums': [2, 1]}\n",
      "\n",
      "Expected Output:\n",
      "1\n",
      "\n",
      "\n",
      "Actual Output:\n",
      "1\n",
      "\n",
      "Execution Time:\n",
      "2.154 ms\n",
      "\n",
      "Test Result:\n",
      "\u001b[92mPASSED\u001b[0m\n",
      "\n",
      "\n",
      "\u001b[1mSUMMARY\u001b[0m\n",
      "\n",
      "TOTAL: 9, \u001b[92mPASSED\u001b[0m: 9, \u001b[91mFAILED\u001b[0m: 0\n"
     ]
    }
   ],
   "source": [
    "binary_search_results = evaluate_test_cases(count_rotations_binary, tests)"
   ]
  },
  {
   "cell_type": "markdown",
   "id": "normal-gregory",
   "metadata": {},
   "source": [
    "Once again, make sure all the tests pass. Fix errors and bugs, if any.\n",
    "\n",
    "**NOTE**: During evaluation, your submission will be tested against a much larger set of test cases (not listed here). Make sure to test your solution thoroughly.\n",
    "\n",
    "If you are stuck, you can ask for help on the community forum: https://jovian.ai/forum/c/data-structures-and-algorithms-in-python/assignment-1/87 . You can get help with errors or ask for hints, but **please don't ask for OR share the full working answer code** on the forum.\n",
    "\n",
    "Let's save our work before continuing."
   ]
  },
  {
   "cell_type": "code",
   "execution_count": 38,
   "id": "amateur-stomach",
   "metadata": {},
   "outputs": [
    {
     "data": {
      "application/javascript": "window.require && require([\"base/js/namespace\"],function(Jupyter){Jupyter.notebook.save_checkpoint()})",
      "text/plain": [
       "<IPython.core.display.Javascript object>"
      ]
     },
     "metadata": {},
     "output_type": "display_data"
    },
    {
     "name": "stdout",
     "output_type": "stream",
     "text": [
      "[jovian] Updating notebook \"jtsang02/python-binary-search-assignment\" on https://jovian.ai\u001b[0m\n",
      "[jovian] Committed successfully! https://jovian.ai/jtsang02/python-binary-search-assignment\u001b[0m\n"
     ]
    },
    {
     "data": {
      "text/plain": [
       "'https://jovian.ai/jtsang02/python-binary-search-assignment'"
      ]
     },
     "execution_count": 38,
     "metadata": {},
     "output_type": "execute_result"
    }
   ],
   "source": [
    "jovian.commit(project=project)"
   ]
  },
  {
   "cell_type": "markdown",
   "id": "honey-cosmetic",
   "metadata": {},
   "source": [
    "### 9. Analyze the algorithm's complexity and identify inefficiencies, if any.\n",
    "\n",
    "_**Q: What is the worst-case complexity (running time) of the algorithm expressed in the Big O Notation? Assume that the size of the list is `N` (uppercase).**_\n",
    "\n",
    "Hint: Count the maximum number of iterations it may take for the algorithm to return the result."
   ]
  },
  {
   "cell_type": "code",
   "execution_count": 39,
   "id": "negative-metallic",
   "metadata": {},
   "outputs": [],
   "source": [
    "binary_search_complexity = \"O(log N)\""
   ]
  },
  {
   "cell_type": "markdown",
   "id": "round-lounge",
   "metadata": {},
   "source": [
    "Is binary search the optimal solution to the problem? How can you prove it? Discuss in the forums.\n",
    "\n",
    "Let's save our work before continuing."
   ]
  },
  {
   "cell_type": "code",
   "execution_count": 40,
   "id": "smooth-delicious",
   "metadata": {},
   "outputs": [],
   "source": [
    "import jovian"
   ]
  },
  {
   "cell_type": "code",
   "execution_count": 41,
   "id": "graphic-separation",
   "metadata": {},
   "outputs": [
    {
     "data": {
      "application/javascript": "window.require && require([\"base/js/namespace\"],function(Jupyter){Jupyter.notebook.save_checkpoint()})",
      "text/plain": [
       "<IPython.core.display.Javascript object>"
      ]
     },
     "metadata": {},
     "output_type": "display_data"
    },
    {
     "name": "stdout",
     "output_type": "stream",
     "text": [
      "[jovian] Updating notebook \"jtsang02/python-binary-search-assignment\" on https://jovian.ai\u001b[0m\n",
      "[jovian] Committed successfully! https://jovian.ai/jtsang02/python-binary-search-assignment\u001b[0m\n"
     ]
    },
    {
     "data": {
      "text/plain": [
       "'https://jovian.ai/jtsang02/python-binary-search-assignment'"
      ]
     },
     "execution_count": 41,
     "metadata": {},
     "output_type": "execute_result"
    }
   ],
   "source": [
    "jovian.commit()"
   ]
  },
  {
   "cell_type": "markdown",
   "id": "nominated-orleans",
   "metadata": {},
   "source": [
    "## Make a Submission\n",
    "\n",
    "To make a submission, visit the [assignment page](https://jovian.ai/learn/data-structures-and-algorithms-in-python/assignment/assignment-1-binary-search-practice) and submit the link to your notebook.\n",
    "\n",
    "You can also make a submission by executing the following statement:"
   ]
  },
  {
   "cell_type": "code",
   "execution_count": 42,
   "id": "sticky-motel",
   "metadata": {},
   "outputs": [
    {
     "data": {
      "application/javascript": "window.require && require([\"base/js/namespace\"],function(Jupyter){Jupyter.notebook.save_checkpoint()})",
      "text/plain": [
       "<IPython.core.display.Javascript object>"
      ]
     },
     "metadata": {},
     "output_type": "display_data"
    },
    {
     "name": "stdout",
     "output_type": "stream",
     "text": [
      "[jovian] Updating notebook \"jtsang02/python-binary-search-assignment\" on https://jovian.ai\u001b[0m\n",
      "[jovian] Committed successfully! https://jovian.ai/jtsang02/python-binary-search-assignment\u001b[0m\n",
      "[jovian] Submitting assignment..\u001b[0m\n",
      "[jovian] Verify your submission at https://jovian.ai/learn/data-structures-and-algorithms-in-python/assignment/assignment-1-binary-search-practice\u001b[0m\n"
     ]
    }
   ],
   "source": [
    "jovian.submit(assignment=\"pythondsa-assignment1\")"
   ]
  },
  {
   "cell_type": "markdown",
   "id": "elder-cement",
   "metadata": {},
   "source": [
    "You can view your previous submissions under the \"Submission History\" section of the [assignment page](https://jovian.ai/learn/data-structures-and-algorithms-in-python/assignment/assignment-1-binary-search-practice). Only your last sumission will be considered for evaluation."
   ]
  },
  {
   "cell_type": "markdown",
   "id": "civilian-tyler",
   "metadata": {},
   "source": [
    "## Bonus Questions\n",
    "\n",
    "The questions in this section are optional, and will not affect your grade. Discuss the bonus questions here: https://jovian.ai/forum/t/optional-bonus-questions-discussion-assignment-1/15486\n",
    "\n",
    "You can also copy over the bonus questions to a new notebook to share your solution on the forum without sharing your assignment notebook. Duplicate this template: https://jovian.ai/aakashns/python-problem-solving-template\n",
    "\n",
    "\n",
    "### Optional Bonus 1: Using the Generic Binary Search Algorithm\n",
    "\n",
    "The `jovian` library provides a generic implementation of the binary search algorithm."
   ]
  },
  {
   "cell_type": "code",
   "execution_count": 43,
   "id": "severe-personal",
   "metadata": {},
   "outputs": [],
   "source": [
    "from jovian.pythondsa import binary_search"
   ]
  },
  {
   "cell_type": "markdown",
   "id": "positive-vessel",
   "metadata": {},
   "source": [
    "You can view it's source code using the `??` command in Jupyter or on [the Github repository](https://github.com/JovianML/jovian-py/blob/master/jovian/pythondsa/__init__.py#L68) for the `jovian` library."
   ]
  },
  {
   "cell_type": "code",
   "execution_count": 44,
   "id": "protecting-brave",
   "metadata": {},
   "outputs": [],
   "source": [
    "??binary_search"
   ]
  },
  {
   "cell_type": "markdown",
   "id": "direct-empty",
   "metadata": {},
   "source": [
    "_**Q (Optional): Implement the `count_rotations` function using the generic `binary_search` function.**_\n",
    "\n",
    "Hint: You'll need to define the condition which returns `\"found\"`, `\"left\"` or `\"right\"` by performing the appropriate check on the middle position in the range."
   ]
  },
  {
   "cell_type": "code",
   "execution_count": 45,
   "id": "amino-feedback",
   "metadata": {},
   "outputs": [],
   "source": [
    "def count_rotations_generic(nums):\n",
    "    def condition(mid):\n",
    "        # replace this with your code\n",
    "        if (mid > 0 and nums[mid] < nums[mid - 1]):\n",
    "            return 'found'\n",
    "        elif (nums[mid] < nums[0]):\n",
    "            return 'left'\n",
    "        else:\n",
    "            return 'right'\n",
    "    result = binary_search(0, len(nums)-1, condition)\n",
    "    if  (result == -1): return 0\n",
    "    return result"
   ]
  },
  {
   "cell_type": "code",
   "execution_count": 46,
   "id": "eastern-raising",
   "metadata": {},
   "outputs": [
    {
     "name": "stdout",
     "output_type": "stream",
     "text": [
      "\n",
      "Input:\n",
      "{'nums': [19, 25, 29, 3, 5, 6, 7, 9, 11, 14]}\n",
      "\n",
      "Expected Output:\n",
      "3\n",
      "\n",
      "\n",
      "Actual Output:\n",
      "3\n",
      "\n",
      "Execution Time:\n",
      "0.009 ms\n",
      "\n",
      "Test Result:\n",
      "\u001b[92mPASSED\u001b[0m\n",
      "\n"
     ]
    },
    {
     "data": {
      "text/plain": [
       "(3, True, 0.009)"
      ]
     },
     "execution_count": 46,
     "metadata": {},
     "output_type": "execute_result"
    }
   ],
   "source": [
    "evaluate_test_case(count_rotations_generic, test)"
   ]
  },
  {
   "cell_type": "code",
   "execution_count": 47,
   "id": "failing-monitoring",
   "metadata": {},
   "outputs": [
    {
     "name": "stdout",
     "output_type": "stream",
     "text": [
      "\n",
      "\u001b[1mTEST CASE #0\u001b[0m\n",
      "\n",
      "Input:\n",
      "{'nums': [19, 25, 29, 3, 5, 6, 7, 9, 11, 14]}\n",
      "\n",
      "Expected Output:\n",
      "3\n",
      "\n",
      "\n",
      "Actual Output:\n",
      "3\n",
      "\n",
      "Execution Time:\n",
      "0.008 ms\n",
      "\n",
      "Test Result:\n",
      "\u001b[92mPASSED\u001b[0m\n",
      "\n",
      "\n",
      "\u001b[1mTEST CASE #1\u001b[0m\n",
      "\n",
      "Input:\n",
      "{'nums': [6, 7, 11, 13, 16, 0, 1, 3]}\n",
      "\n",
      "Expected Output:\n",
      "5\n",
      "\n",
      "\n",
      "Actual Output:\n",
      "5\n",
      "\n",
      "Execution Time:\n",
      "0.007 ms\n",
      "\n",
      "Test Result:\n",
      "\u001b[92mPASSED\u001b[0m\n",
      "\n",
      "\n",
      "\u001b[1mTEST CASE #2\u001b[0m\n",
      "\n",
      "Input:\n",
      "{'nums': [3, 4, 5, 6]}\n",
      "\n",
      "Expected Output:\n",
      "0\n",
      "\n",
      "\n",
      "Actual Output:\n",
      "0\n",
      "\n",
      "Execution Time:\n",
      "0.008 ms\n",
      "\n",
      "Test Result:\n",
      "\u001b[92mPASSED\u001b[0m\n",
      "\n",
      "\n",
      "\u001b[1mTEST CASE #3\u001b[0m\n",
      "\n",
      "Input:\n",
      "{'nums': [9, 1, 2, 4, 7]}\n",
      "\n",
      "Expected Output:\n",
      "1\n",
      "\n",
      "\n",
      "Actual Output:\n",
      "1\n",
      "\n",
      "Execution Time:\n",
      "0.007 ms\n",
      "\n",
      "Test Result:\n",
      "\u001b[92mPASSED\u001b[0m\n",
      "\n",
      "\n",
      "\u001b[1mTEST CASE #4\u001b[0m\n",
      "\n",
      "Input:\n",
      "{'nums': [9, 1, 2, 4, 7]}\n",
      "\n",
      "Expected Output:\n",
      "1\n",
      "\n",
      "\n",
      "Actual Output:\n",
      "1\n",
      "\n",
      "Execution Time:\n",
      "0.005 ms\n",
      "\n",
      "Test Result:\n",
      "\u001b[92mPASSED\u001b[0m\n",
      "\n",
      "\n",
      "\u001b[1mTEST CASE #5\u001b[0m\n",
      "\n",
      "Input:\n",
      "{'nums': [1, 2, 3, 4]}\n",
      "\n",
      "Expected Output:\n",
      "0\n",
      "\n",
      "\n",
      "Actual Output:\n",
      "0\n",
      "\n",
      "Execution Time:\n",
      "0.004 ms\n",
      "\n",
      "Test Result:\n",
      "\u001b[92mPASSED\u001b[0m\n",
      "\n",
      "\n",
      "\u001b[1mTEST CASE #6\u001b[0m\n",
      "\n",
      "Input:\n",
      "{'nums': []}\n",
      "\n",
      "Expected Output:\n",
      "0\n",
      "\n",
      "\n",
      "Actual Output:\n",
      "0\n",
      "\n",
      "Execution Time:\n",
      "0.003 ms\n",
      "\n",
      "Test Result:\n",
      "\u001b[92mPASSED\u001b[0m\n",
      "\n",
      "\n",
      "\u001b[1mTEST CASE #7\u001b[0m\n",
      "\n",
      "Input:\n",
      "{'nums': [1]}\n",
      "\n",
      "Expected Output:\n",
      "0\n",
      "\n",
      "\n",
      "Actual Output:\n",
      "0\n",
      "\n",
      "Execution Time:\n",
      "0.005 ms\n",
      "\n",
      "Test Result:\n",
      "\u001b[92mPASSED\u001b[0m\n",
      "\n",
      "\n",
      "\u001b[1mTEST CASE #8\u001b[0m\n",
      "\n",
      "Input:\n",
      "{'nums': [2, 1]}\n",
      "\n",
      "Expected Output:\n",
      "1\n",
      "\n",
      "\n",
      "Actual Output:\n",
      "1\n",
      "\n",
      "Execution Time:\n",
      "0.005 ms\n",
      "\n",
      "Test Result:\n",
      "\u001b[92mPASSED\u001b[0m\n",
      "\n",
      "\n",
      "\u001b[1mSUMMARY\u001b[0m\n",
      "\n",
      "TOTAL: 9, \u001b[92mPASSED\u001b[0m: 9, \u001b[91mFAILED\u001b[0m: 0\n"
     ]
    },
    {
     "data": {
      "text/plain": [
       "[(3, True, 0.008),\n",
       " (5, True, 0.007),\n",
       " (0, True, 0.008),\n",
       " (1, True, 0.007),\n",
       " (1, True, 0.005),\n",
       " (0, True, 0.004),\n",
       " (0, True, 0.003),\n",
       " (0, True, 0.005),\n",
       " (1, True, 0.005)]"
      ]
     },
     "execution_count": 47,
     "metadata": {},
     "output_type": "execute_result"
    }
   ],
   "source": [
    "evaluate_test_cases(count_rotations_generic, tests)"
   ]
  },
  {
   "cell_type": "code",
   "execution_count": 48,
   "id": "closed-monday",
   "metadata": {},
   "outputs": [
    {
     "data": {
      "application/javascript": "window.require && require([\"base/js/namespace\"],function(Jupyter){Jupyter.notebook.save_checkpoint()})",
      "text/plain": [
       "<IPython.core.display.Javascript object>"
      ]
     },
     "metadata": {},
     "output_type": "display_data"
    },
    {
     "name": "stdout",
     "output_type": "stream",
     "text": [
      "[jovian] Updating notebook \"jtsang02/python-binary-search-assignment\" on https://jovian.ai\u001b[0m\n",
      "[jovian] Committed successfully! https://jovian.ai/jtsang02/python-binary-search-assignment\u001b[0m\n"
     ]
    },
    {
     "data": {
      "text/plain": [
       "'https://jovian.ai/jtsang02/python-binary-search-assignment'"
      ]
     },
     "execution_count": 48,
     "metadata": {},
     "output_type": "execute_result"
    }
   ],
   "source": [
    "jovian.commit()"
   ]
  },
  {
   "cell_type": "markdown",
   "id": "realistic-assessment",
   "metadata": {},
   "source": [
    "Discuss your solution on the forum: https://jovian.ai/forum/c/data-structures-and-algorithms-in-python/assignment-1/87"
   ]
  },
  {
   "cell_type": "markdown",
   "id": "naughty-spotlight",
   "metadata": {},
   "source": [
    "### Optional Bonus 2: Handling repeating numbers\n",
    "\n",
    "So far we've assumed that the numbers in the list are unique. What if the numbers can repeat? E.g. `[5, 6, 6, 9, 9, 9, 0, 0, 2, 3, 3, 3, 3, 4, 4]`. Can you modify your solution to handle this special case?\n",
    "\n",
    "\n",
    "_**Q (Optional): Create additional test cases where the list can contain repeating numbers**_"
   ]
  },
  {
   "cell_type": "code",
   "execution_count": 49,
   "id": "designed-stationery",
   "metadata": {},
   "outputs": [],
   "source": [
    "extended_tests = list(tests)"
   ]
  },
  {
   "cell_type": "code",
   "execution_count": 50,
   "id": "reflected-backup",
   "metadata": {},
   "outputs": [],
   "source": [
    "extended_tests.append({\n",
    "    # add your test case here\n",
    "    'input': {\n",
    "        'nums': [5, 6, 6, 9, 9, 9, 0, 0, 2, 3, 3, 3, 3, 4, 4]\n",
    "    },\n",
    "    'output': 7\n",
    "})"
   ]
  },
  {
   "cell_type": "code",
   "execution_count": 51,
   "id": "rental-specific",
   "metadata": {},
   "outputs": [],
   "source": [
    "extended_tests.append({\n",
    "    # add your test case here\n",
    "    'input': {\n",
    "        'nums': [3, 3, 0, 0, 3, 3, 3, 3, 3, 3, 3, 3]\n",
    "    },\n",
    "    'output': 3\n",
    "})"
   ]
  },
  {
   "cell_type": "code",
   "execution_count": 52,
   "id": "social-baker",
   "metadata": {},
   "outputs": [],
   "source": [
    "# add more test cases if required"
   ]
  },
  {
   "cell_type": "code",
   "execution_count": 53,
   "id": "finnish-sudan",
   "metadata": {},
   "outputs": [
    {
     "data": {
      "application/javascript": "window.require && require([\"base/js/namespace\"],function(Jupyter){Jupyter.notebook.save_checkpoint()})",
      "text/plain": [
       "<IPython.core.display.Javascript object>"
      ]
     },
     "metadata": {},
     "output_type": "display_data"
    },
    {
     "name": "stdout",
     "output_type": "stream",
     "text": [
      "[jovian] Updating notebook \"jtsang02/python-binary-search-assignment\" on https://jovian.ai\u001b[0m\n",
      "[jovian] Committed successfully! https://jovian.ai/jtsang02/python-binary-search-assignment\u001b[0m\n"
     ]
    },
    {
     "data": {
      "text/plain": [
       "'https://jovian.ai/jtsang02/python-binary-search-assignment'"
      ]
     },
     "execution_count": 53,
     "metadata": {},
     "output_type": "execute_result"
    }
   ],
   "source": [
    "jovian.commit()"
   ]
  },
  {
   "cell_type": "markdown",
   "id": "freelance-kinase",
   "metadata": {},
   "source": [
    "_**Q (Optional): Modify your solution (if required) to handle the case where the list can contain repeating numbers.**_"
   ]
  },
  {
   "cell_type": "code",
   "execution_count": 54,
   "id": "vocational-revolution",
   "metadata": {},
   "outputs": [],
   "source": [
    "def count_rotations_linear(nums):\n",
    "    position = 0                   # What is the intial value of position?  The first index of the list\n",
    "    \n",
    "    while (position < len(nums)-1):  # When should the loop be terminated?  When it reaches the last index\n",
    "        \n",
    "        # Success criteria: check whether the number at the current position is smaller than the one before it\n",
    "        if position > 0 and nums[position] < nums[position - 1] and nums[position] != nums[position + 1]:   # How to perform the check?\n",
    "            return position\n",
    "        \n",
    "        # Move to the next position\n",
    "        position += 1\n",
    "    \n",
    "    return 0                     # What if none of the positions passed the check    "
   ]
  },
  {
   "cell_type": "markdown",
   "id": "comic-metabolism",
   "metadata": {},
   "source": [
    "Test your function to make sure it works properly."
   ]
  },
  {
   "cell_type": "code",
   "execution_count": 55,
   "id": "unlike-offset",
   "metadata": {
    "scrolled": false
   },
   "outputs": [
    {
     "name": "stdout",
     "output_type": "stream",
     "text": [
      "\n",
      "\u001b[1mTEST CASE #0\u001b[0m\n",
      "\n",
      "Input:\n",
      "{'nums': [19, 25, 29, 3, 5, 6, 7, 9, 11, 14]}\n",
      "\n",
      "Expected Output:\n",
      "3\n",
      "\n",
      "\n",
      "Actual Output:\n",
      "3\n",
      "\n",
      "Execution Time:\n",
      "0.006 ms\n",
      "\n",
      "Test Result:\n",
      "\u001b[92mPASSED\u001b[0m\n",
      "\n",
      "\n",
      "\u001b[1mTEST CASE #1\u001b[0m\n",
      "\n",
      "Input:\n",
      "{'nums': [6, 7, 11, 13, 16, 0, 1, 3]}\n",
      "\n",
      "Expected Output:\n",
      "5\n",
      "\n",
      "\n",
      "Actual Output:\n",
      "5\n",
      "\n",
      "Execution Time:\n",
      "0.005 ms\n",
      "\n",
      "Test Result:\n",
      "\u001b[92mPASSED\u001b[0m\n",
      "\n",
      "\n",
      "\u001b[1mTEST CASE #2\u001b[0m\n",
      "\n",
      "Input:\n",
      "{'nums': [3, 4, 5, 6]}\n",
      "\n",
      "Expected Output:\n",
      "0\n",
      "\n",
      "\n",
      "Actual Output:\n",
      "0\n",
      "\n",
      "Execution Time:\n",
      "0.004 ms\n",
      "\n",
      "Test Result:\n",
      "\u001b[92mPASSED\u001b[0m\n",
      "\n",
      "\n",
      "\u001b[1mTEST CASE #3\u001b[0m\n",
      "\n",
      "Input:\n",
      "{'nums': [9, 1, 2, 4, 7]}\n",
      "\n",
      "Expected Output:\n",
      "1\n",
      "\n",
      "\n",
      "Actual Output:\n",
      "1\n",
      "\n",
      "Execution Time:\n",
      "0.005 ms\n",
      "\n",
      "Test Result:\n",
      "\u001b[92mPASSED\u001b[0m\n",
      "\n",
      "\n",
      "\u001b[1mTEST CASE #4\u001b[0m\n",
      "\n",
      "Input:\n",
      "{'nums': [9, 1, 2, 4, 7]}\n",
      "\n",
      "Expected Output:\n",
      "1\n",
      "\n",
      "\n",
      "Actual Output:\n",
      "1\n",
      "\n",
      "Execution Time:\n",
      "0.003 ms\n",
      "\n",
      "Test Result:\n",
      "\u001b[92mPASSED\u001b[0m\n",
      "\n",
      "\n",
      "\u001b[1mTEST CASE #5\u001b[0m\n",
      "\n",
      "Input:\n",
      "{'nums': [1, 2, 3, 4]}\n",
      "\n",
      "Expected Output:\n",
      "0\n",
      "\n",
      "\n",
      "Actual Output:\n",
      "0\n",
      "\n",
      "Execution Time:\n",
      "0.004 ms\n",
      "\n",
      "Test Result:\n",
      "\u001b[92mPASSED\u001b[0m\n",
      "\n",
      "\n",
      "\u001b[1mTEST CASE #6\u001b[0m\n",
      "\n",
      "Input:\n",
      "{'nums': []}\n",
      "\n",
      "Expected Output:\n",
      "0\n",
      "\n",
      "\n",
      "Actual Output:\n",
      "0\n",
      "\n",
      "Execution Time:\n",
      "0.003 ms\n",
      "\n",
      "Test Result:\n",
      "\u001b[92mPASSED\u001b[0m\n",
      "\n",
      "\n",
      "\u001b[1mTEST CASE #7\u001b[0m\n",
      "\n",
      "Input:\n",
      "{'nums': [1]}\n",
      "\n",
      "Expected Output:\n",
      "0\n",
      "\n",
      "\n",
      "Actual Output:\n",
      "0\n",
      "\n",
      "Execution Time:\n",
      "0.003 ms\n",
      "\n",
      "Test Result:\n",
      "\u001b[92mPASSED\u001b[0m\n",
      "\n",
      "\n",
      "\u001b[1mTEST CASE #8\u001b[0m\n",
      "\n",
      "Input:\n",
      "{'nums': [2, 1]}\n",
      "\n",
      "Expected Output:\n",
      "1\n",
      "\n",
      "\n",
      "Actual Output:\n",
      "0\n",
      "\n",
      "Execution Time:\n",
      "0.003 ms\n",
      "\n",
      "Test Result:\n",
      "\u001b[91mFAILED\u001b[0m\n",
      "\n",
      "\n",
      "\u001b[1mTEST CASE #9\u001b[0m\n",
      "\n",
      "Input:\n",
      "{'nums': [5, 6, 6, 9, 9, 9, 0, 0, 2, 3, 3, 3, 3, 4, 4]}\n",
      "\n",
      "Expected Output:\n",
      "7\n",
      "\n",
      "\n",
      "Actual Output:\n",
      "0\n",
      "\n",
      "Execution Time:\n",
      "0.006 ms\n",
      "\n",
      "Test Result:\n",
      "\u001b[91mFAILED\u001b[0m\n",
      "\n",
      "\n",
      "\u001b[1mTEST CASE #10\u001b[0m\n",
      "\n",
      "Input:\n",
      "{'nums': [3, 3, 0, 0, 3, 3, 3, 3, 3, 3, 3, 3]}\n",
      "\n",
      "Expected Output:\n",
      "3\n",
      "\n",
      "\n",
      "Actual Output:\n",
      "0\n",
      "\n",
      "Execution Time:\n",
      "0.005 ms\n",
      "\n",
      "Test Result:\n",
      "\u001b[91mFAILED\u001b[0m\n",
      "\n",
      "\n",
      "\u001b[1mSUMMARY\u001b[0m\n",
      "\n",
      "TOTAL: 11, \u001b[92mPASSED\u001b[0m: 8, \u001b[91mFAILED\u001b[0m: 3\n"
     ]
    },
    {
     "data": {
      "text/plain": [
       "[(3, True, 0.006),\n",
       " (5, True, 0.005),\n",
       " (0, True, 0.004),\n",
       " (1, True, 0.005),\n",
       " (1, True, 0.003),\n",
       " (0, True, 0.004),\n",
       " (0, True, 0.003),\n",
       " (0, True, 0.003),\n",
       " (0, False, 0.003),\n",
       " (0, False, 0.006),\n",
       " (0, False, 0.005)]"
      ]
     },
     "execution_count": 55,
     "metadata": {},
     "output_type": "execute_result"
    }
   ],
   "source": [
    "evaluate_test_cases(count_rotations_linear, extended_tests)"
   ]
  },
  {
   "cell_type": "code",
   "execution_count": null,
   "id": "pregnant-roommate",
   "metadata": {},
   "outputs": [],
   "source": []
  },
  {
   "cell_type": "markdown",
   "id": "center-solid",
   "metadata": {},
   "source": [
    "Discuss your solution on the forum: https://jovian.ai/forum/c/data-structures-and-algorithms-in-python/assignment-1/87"
   ]
  },
  {
   "cell_type": "markdown",
   "id": "intermediate-mailman",
   "metadata": {},
   "source": [
    "### Optional Bonus 3: Searching in a Rotated List\n",
    "\n",
    "Here's a slightly advanced extension to this problem:\n",
    "\n",
    "> You are given list of numbers, obtained by rotating a sorted list an unknown number of times. You are also given a target number. Write a function to find the position of the target number within the rotated list. You can assume that all the numbers in the list are unique.\n",
    ">\n",
    "> Example: In the rotated sorted list `[5, 6, 9, 0, 2, 3, 4]`, the target number `2` occurs at position `5`."
   ]
  },
  {
   "cell_type": "markdown",
   "id": "happy-attack",
   "metadata": {},
   "source": [
    "**Q (Optional): Create some test cases for the above problem.**"
   ]
  },
  {
   "cell_type": "code",
   "execution_count": 56,
   "id": "efficient-coffee",
   "metadata": {},
   "outputs": [],
   "source": [
    "tests2 = []"
   ]
  },
  {
   "cell_type": "code",
   "execution_count": 57,
   "id": "wicked-junior",
   "metadata": {},
   "outputs": [],
   "source": [
    "tests2.append({\n",
    "    # add your test case here\n",
    "    'input': {\n",
    "        'nums': [4,5,6,7,0,1,2],\n",
    "        'target': 0\n",
    "    },\n",
    "    'output': 4\n",
    "})"
   ]
  },
  {
   "cell_type": "code",
   "execution_count": 58,
   "id": "threaded-piano",
   "metadata": {},
   "outputs": [],
   "source": [
    "tests2.append({\n",
    "    # add your test case here\n",
    "    'input': {\n",
    "        'nums': [4,5,6,7,0,1,2],\n",
    "        'target': 3\n",
    "    },\n",
    "    'output': -1\n",
    "})"
   ]
  },
  {
   "cell_type": "code",
   "execution_count": 59,
   "id": "472a4545",
   "metadata": {},
   "outputs": [],
   "source": [
    "tests2.append({\n",
    "    # add your test case here\n",
    "    'input': {\n",
    "        'nums': [1],\n",
    "        'target': 0\n",
    "    },\n",
    "    'output': -1\n",
    "})"
   ]
  },
  {
   "cell_type": "code",
   "execution_count": 60,
   "id": "bd7b5a43",
   "metadata": {},
   "outputs": [],
   "source": [
    "tests2.append({\n",
    "    # add your test case here\n",
    "    'input': {\n",
    "        'nums': [1],\n",
    "        'target': 1\n",
    "    },\n",
    "    'output': 0\n",
    "})"
   ]
  },
  {
   "cell_type": "code",
   "execution_count": 61,
   "id": "bcaa2eac",
   "metadata": {},
   "outputs": [],
   "source": [
    "tests2.append({\n",
    "    # add your test case here\n",
    "    'input': {\n",
    "        'nums': [],\n",
    "        'target': 1\n",
    "    },\n",
    "    'output': -1\n",
    "})"
   ]
  },
  {
   "cell_type": "markdown",
   "id": "still-presentation",
   "metadata": {},
   "source": [
    "**Q (Optional): Implement a solution to the above problem using binary search.**\n",
    "\n",
    "_HINT:_ One way to solve this problem is to identify two sorted subarrays within the given array (using the `count_rotations_binary` function defined above), then perform a binary search on each subarray to determine the position of the target element. Another way is to modify `count_rotations_binary` to solve the problem directly."
   ]
  },
  {
   "cell_type": "code",
   "execution_count": 1,
   "id": "great-peter",
   "metadata": {},
   "outputs": [],
   "source": [
    "def find_element(nums, target):\n",
    "    # generic binary search algorithm\n",
    "    def binary_search(low, high, condition):\n",
    "        while (low <= high):\n",
    "            mid = (low + high) // 2\n",
    "            result = condition(mid)\n",
    "            if (result == 'found'):\n",
    "                return mid\n",
    "            elif (result == 'left'):\n",
    "                high = mid - 1\n",
    "            else:\n",
    "                low = mid + 1\n",
    "        return -1\n",
    "\n",
    "    # logic to find pivot\n",
    "    def findPivotCondition(mid):\n",
    "        if (mid > 0 and nums[mid] < nums[mid - 1]):\n",
    "            return 'found'\n",
    "        elif (nums[mid] < nums[0]):\n",
    "            return 'left'\n",
    "        else:\n",
    "            return 'right'\n",
    "\n",
    "    # logic to search target in ascending sorted list\n",
    "    def findTargetCondition(mid):          \n",
    "        if (nums[mid] == target):\n",
    "            return 'found'\n",
    "        elif (nums[mid] > target):\n",
    "            return 'left'\n",
    "        else:\n",
    "            return 'right'\n",
    "\n",
    "    # get mid index to get pivot value\n",
    "    low, high = 0, len(nums) - 1\n",
    "    pivot = binary_search(low, high, findPivotCondition)\n",
    "    #print(pivot)\n",
    "\n",
    "    # if no pivot found, do binary search on whole array\n",
    "    if (pivot == -1):\n",
    "        return binary_search(low, high, findTargetCondition)\n",
    "\n",
    "    # if pivot found, compare with target\n",
    "    if (nums[pivot] == target):\n",
    "        return pivot\n",
    "\n",
    "    # split list into L and R from the pivot to get 2 sorted list\n",
    "    \n",
    "    # if target is greater than or equal to first value in array:\n",
    "    if (nums[0] <= target):\n",
    "        #print (\"search leftNums:\", nums[:pivot], \"low: \", low, \" high:\", pivot) \n",
    "        return binary_search(low, pivot, findTargetCondition)\n",
    "    else:\n",
    "        #print (\"search rightNums:\", nums[pivot:], \"low: \", pivot, \" high:\", high) \n",
    "        return binary_search(pivot, high, findTargetCondition) "
   ]
  },
  {
   "cell_type": "markdown",
   "id": "initial-arthur",
   "metadata": {},
   "source": [
    "Test your solution using the cells below."
   ]
  },
  {
   "cell_type": "code",
   "execution_count": 62,
   "id": "duplicate-separate",
   "metadata": {},
   "outputs": [
    {
     "name": "stdout",
     "output_type": "stream",
     "text": [
      "\n",
      "\u001b[1mTEST CASE #0\u001b[0m\n",
      "\n",
      "Input:\n",
      "{'nums': [4, 5, 6, 7, 0, 1, 2], 'target': 0}\n",
      "\n",
      "Expected Output:\n",
      "4\n",
      "\n",
      "\n",
      "Actual Output:\n",
      "4\n",
      "\n",
      "Execution Time:\n",
      "0.012 ms\n",
      "\n",
      "Test Result:\n",
      "\u001b[92mPASSED\u001b[0m\n",
      "\n",
      "\n",
      "\u001b[1mTEST CASE #1\u001b[0m\n",
      "\n",
      "Input:\n",
      "{'nums': [4, 5, 6, 7, 0, 1, 2], 'target': 3}\n",
      "\n",
      "Expected Output:\n",
      "-1\n",
      "\n",
      "\n",
      "Actual Output:\n",
      "-1\n",
      "\n",
      "Execution Time:\n",
      "0.01 ms\n",
      "\n",
      "Test Result:\n",
      "\u001b[92mPASSED\u001b[0m\n",
      "\n",
      "\n",
      "\u001b[1mTEST CASE #2\u001b[0m\n",
      "\n",
      "Input:\n",
      "{'nums': [1], 'target': 0}\n",
      "\n",
      "Expected Output:\n",
      "-1\n",
      "\n",
      "\n",
      "Actual Output:\n",
      "-1\n",
      "\n",
      "Execution Time:\n",
      "0.011 ms\n",
      "\n",
      "Test Result:\n",
      "\u001b[92mPASSED\u001b[0m\n",
      "\n",
      "\n",
      "\u001b[1mTEST CASE #3\u001b[0m\n",
      "\n",
      "Input:\n",
      "{'nums': [1], 'target': 1}\n",
      "\n",
      "Expected Output:\n",
      "0\n",
      "\n",
      "\n",
      "Actual Output:\n",
      "0\n",
      "\n",
      "Execution Time:\n",
      "0.009 ms\n",
      "\n",
      "Test Result:\n",
      "\u001b[92mPASSED\u001b[0m\n",
      "\n",
      "\n",
      "\u001b[1mTEST CASE #4\u001b[0m\n",
      "\n",
      "Input:\n",
      "{'nums': [], 'target': 1}\n",
      "\n",
      "Expected Output:\n",
      "-1\n",
      "\n",
      "\n",
      "Actual Output:\n",
      "-1\n",
      "\n",
      "Execution Time:\n",
      "0.004 ms\n",
      "\n",
      "Test Result:\n",
      "\u001b[92mPASSED\u001b[0m\n",
      "\n",
      "\n",
      "\u001b[1mSUMMARY\u001b[0m\n",
      "\n",
      "TOTAL: 5, \u001b[92mPASSED\u001b[0m: 5, \u001b[91mFAILED\u001b[0m: 0\n"
     ]
    },
    {
     "data": {
      "text/plain": [
       "[(4, True, 0.012),\n",
       " (-1, True, 0.01),\n",
       " (-1, True, 0.011),\n",
       " (0, True, 0.009),\n",
       " (-1, True, 0.004)]"
      ]
     },
     "execution_count": 62,
     "metadata": {},
     "output_type": "execute_result"
    }
   ],
   "source": [
    "evaluate_test_cases(find_element, tests2)"
   ]
  },
  {
   "cell_type": "markdown",
   "id": "choice-utilization",
   "metadata": {},
   "source": [
    "You can test your solution to the above problem here: https://leetcode.com/problems/search-in-rotated-sorted-array/\n",
    "\n",
    "Discuss your approach on the forum: https://jovian.ai/forum/c/data-structures-and-algorithms-in-python/assignment-1/87"
   ]
  },
  {
   "cell_type": "code",
   "execution_count": null,
   "id": "useful-bhutan",
   "metadata": {},
   "outputs": [],
   "source": [
    "jovian.commit()"
   ]
  }
 ],
 "metadata": {
  "language_info": {
   "codemirror_mode": {
    "name": "ipython",
    "version": 3
   },
   "file_extension": ".py",
   "mimetype": "text/x-python",
   "name": "python",
   "nbconvert_exporter": "python",
   "pygments_lexer": "ipython3",
   "version": "3.9.6"
  }
 },
 "nbformat": 4,
 "nbformat_minor": 5
}
